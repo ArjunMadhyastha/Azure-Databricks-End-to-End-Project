{
 "cells": [
  {
   "cell_type": "code",
   "execution_count": 0,
   "metadata": {
    "application/vnd.databricks.v1+cell": {
     "cellMetadata": {
      "byteLimit": 2048000,
      "rowLimit": 10000
     },
     "inputWidgets": {},
     "nuid": "7523ef22-7914-45b7-abac-ec40a3e6f7c0",
     "showTitle": false,
     "tableResultSettingsMap": {},
     "title": ""
    }
   },
   "outputs": [],
   "source": [
    "df = spark.sql(\"select * from databricks_cata.silver.order_silver\")"
   ]
  },
  {
   "cell_type": "code",
   "execution_count": 0,
   "metadata": {
    "application/vnd.databricks.v1+cell": {
     "cellMetadata": {
      "byteLimit": 2048000,
      "rowLimit": 10000
     },
     "inputWidgets": {},
     "nuid": "b59bc7e9-d9dd-4bde-a9f9-dcc766247f8e",
     "showTitle": false,
     "tableResultSettingsMap": {},
     "title": ""
    }
   },
   "outputs": [
    {
     "output_type": "display_data",
     "data": {
      "text/html": [
       "<style scoped>\n",
       "  .table-result-container {\n",
       "    max-height: 300px;\n",
       "    overflow: auto;\n",
       "  }\n",
       "  table, th, td {\n",
       "    border: 1px solid black;\n",
       "    border-collapse: collapse;\n",
       "  }\n",
       "  th, td {\n",
       "    padding: 5px;\n",
       "  }\n",
       "  th {\n",
       "    text-align: left;\n",
       "  }\n",
       "</style><div class='table-result-container'><table class='table-result'><thead style='background-color: white'><tr><th>order_id</th><th>customer_id</th><th>product_id</th><th>order_date</th><th>quantity</th><th>total_amount</th><th>year</th></tr></thead><tbody><tr><td>O00001</td><td>C00710</td><td>P0159</td><td>2023-03-22T00:00:00.000Z</td><td>3</td><td>2022.87</td><td>2023</td></tr><tr><td>O00002</td><td>C00954</td><td>P0036</td><td>2023-06-30T00:00:00.000Z</td><td>2</td><td>3560.74</td><td>2023</td></tr><tr><td>O00003</td><td>C01578</td><td>P0427</td><td>2023-11-06T00:00:00.000Z</td><td>3</td><td>5903.52</td><td>2023</td></tr><tr><td>O00004</td><td>C00962</td><td>P0332</td><td>2024-02-27T00:00:00.000Z</td><td>3</td><td>4107.99</td><td>2024</td></tr><tr><td>O00005</td><td>C00156</td><td>P0038</td><td>2024-10-13T00:00:00.000Z</td><td>5</td><td>5784.95</td><td>2024</td></tr><tr><td>O00006</td><td>C00521</td><td>P0174</td><td>2023-05-17T00:00:00.000Z</td><td>5</td><td>407.75</td><td>2023</td></tr><tr><td>O00007</td><td>C00982</td><td>P0352</td><td>2024-01-18T00:00:00.000Z</td><td>4</td><td>4907.64</td><td>2024</td></tr><tr><td>O00008</td><td>C00976</td><td>P0172</td><td>2023-01-10T00:00:00.000Z</td><td>4</td><td>7037.88</td><td>2023</td></tr><tr><td>O00009</td><td>C01001</td><td>P0238</td><td>2023-04-20T00:00:00.000Z</td><td>3</td><td>4076.97</td><td>2023</td></tr><tr><td>O00010</td><td>C00702</td><td>P0258</td><td>2023-07-07T00:00:00.000Z</td><td>4</td><td>5695.64</td><td>2023</td></tr></tbody></table></div>"
      ]
     },
     "metadata": {
      "application/vnd.databricks.v1+output": {
       "addedWidgets": {},
       "aggData": [],
       "aggError": "",
       "aggOverflow": false,
       "aggSchema": [],
       "aggSeriesLimitReached": false,
       "aggType": "",
       "arguments": {},
       "columnCustomDisplayInfos": {},
       "data": [
        [
         "O00001",
         "C00710",
         "P0159",
         "2023-03-22T00:00:00.000Z",
         3,
         2022.87,
         2023
        ],
        [
         "O00002",
         "C00954",
         "P0036",
         "2023-06-30T00:00:00.000Z",
         2,
         3560.74,
         2023
        ],
        [
         "O00003",
         "C01578",
         "P0427",
         "2023-11-06T00:00:00.000Z",
         3,
         5903.52,
         2023
        ],
        [
         "O00004",
         "C00962",
         "P0332",
         "2024-02-27T00:00:00.000Z",
         3,
         4107.99,
         2024
        ],
        [
         "O00005",
         "C00156",
         "P0038",
         "2024-10-13T00:00:00.000Z",
         5,
         5784.95,
         2024
        ],
        [
         "O00006",
         "C00521",
         "P0174",
         "2023-05-17T00:00:00.000Z",
         5,
         407.75,
         2023
        ],
        [
         "O00007",
         "C00982",
         "P0352",
         "2024-01-18T00:00:00.000Z",
         4,
         4907.64,
         2024
        ],
        [
         "O00008",
         "C00976",
         "P0172",
         "2023-01-10T00:00:00.000Z",
         4,
         7037.88,
         2023
        ],
        [
         "O00009",
         "C01001",
         "P0238",
         "2023-04-20T00:00:00.000Z",
         3,
         4076.97,
         2023
        ],
        [
         "O00010",
         "C00702",
         "P0258",
         "2023-07-07T00:00:00.000Z",
         4,
         5695.64,
         2023
        ]
       ],
       "datasetInfos": [],
       "dbfsResultPath": null,
       "isJsonSchema": true,
       "metadata": {},
       "overflow": false,
       "plotOptions": {
        "customPlotOptions": {},
        "displayType": "table",
        "pivotAggregation": null,
        "pivotColumns": null,
        "xColumns": null,
        "yColumns": null
       },
       "removedWidgets": [],
       "schema": [
        {
         "metadata": "{}",
         "name": "order_id",
         "type": "\"string\""
        },
        {
         "metadata": "{}",
         "name": "customer_id",
         "type": "\"string\""
        },
        {
         "metadata": "{}",
         "name": "product_id",
         "type": "\"string\""
        },
        {
         "metadata": "{}",
         "name": "order_date",
         "type": "\"timestamp\""
        },
        {
         "metadata": "{}",
         "name": "quantity",
         "type": "\"integer\""
        },
        {
         "metadata": "{}",
         "name": "total_amount",
         "type": "\"double\""
        },
        {
         "metadata": "{}",
         "name": "year",
         "type": "\"integer\""
        }
       ],
       "type": "table"
      }
     },
     "output_type": "display_data"
    }
   ],
   "source": [
    "df.limit(10).display()"
   ]
  },
  {
   "cell_type": "markdown",
   "metadata": {
    "application/vnd.databricks.v1+cell": {
     "cellMetadata": {
      "byteLimit": 2048000,
      "rowLimit": 10000
     },
     "inputWidgets": {},
     "nuid": "72c5a1a5-2ab8-491b-aab2-1df8c5469d4c",
     "showTitle": false,
     "tableResultSettingsMap": {},
     "title": ""
    }
   },
   "source": [
    "### Replacing customer_id and product_id with dimCustomerKey and dimproductKey"
   ]
  },
  {
   "cell_type": "code",
   "execution_count": 0,
   "metadata": {
    "application/vnd.databricks.v1+cell": {
     "cellMetadata": {
      "byteLimit": 2048000,
      "rowLimit": 10000
     },
     "inputWidgets": {},
     "nuid": "fc16c5fc-3d3f-4cb7-9dab-c2f729ef96ce",
     "showTitle": false,
     "tableResultSettingsMap": {},
     "title": ""
    }
   },
   "outputs": [],
   "source": [
    "df_dimcus = spark.sql(\"select DimKey as DimCustomerKey, customer_id as dim_customer_id from Databricks_cata.gold.customers\")"
   ]
  },
  {
   "cell_type": "code",
   "execution_count": 0,
   "metadata": {
    "application/vnd.databricks.v1+cell": {
     "cellMetadata": {
      "byteLimit": 2048000,
      "rowLimit": 10000
     },
     "inputWidgets": {},
     "nuid": "94e9bc9a-53db-466b-9ffe-349d3e6e9989",
     "showTitle": false,
     "tableResultSettingsMap": {},
     "title": ""
    }
   },
   "outputs": [],
   "source": [
    "df_dimpro = spark.sql(\"select product_id as DimProductId, product_id as dim_product_id from Databricks_cata.gold.dimproducts\")"
   ]
  },
  {
   "cell_type": "markdown",
   "metadata": {
    "application/vnd.databricks.v1+cell": {
     "cellMetadata": {
      "byteLimit": 2048000,
      "rowLimit": 10000
     },
     "inputWidgets": {},
     "nuid": "739bf7c5-8dd2-4dc8-a1e3-2e233ca956c7",
     "showTitle": false,
     "tableResultSettingsMap": {},
     "title": ""
    }
   },
   "source": [
    "### Fact Dataframe"
   ]
  },
  {
   "cell_type": "code",
   "execution_count": 0,
   "metadata": {
    "application/vnd.databricks.v1+cell": {
     "cellMetadata": {
      "byteLimit": 2048000,
      "rowLimit": 10000
     },
     "inputWidgets": {},
     "nuid": "600930be-0fe1-4f18-b5d3-9b7f77c502ff",
     "showTitle": false,
     "tableResultSettingsMap": {},
     "title": ""
    }
   },
   "outputs": [],
   "source": [
    "df_fact = df.join(df_dimcus,df.customer_id == df_dimcus.dim_customer_id, 'left').join(df_dimpro,df.product_id == df_dimpro.dim_product_id, 'left')\n",
    "\n",
    "df_fact_new = df_fact.drop('dim_customer_id','dim_product_id','customer_id','product_id')"
   ]
  },
  {
   "cell_type": "code",
   "execution_count": 0,
   "metadata": {
    "application/vnd.databricks.v1+cell": {
     "cellMetadata": {
      "byteLimit": 2048000,
      "rowLimit": 10000
     },
     "inputWidgets": {},
     "nuid": "b926cdde-3590-4280-99e3-92bb46820df2",
     "showTitle": false,
     "tableResultSettingsMap": {},
     "title": ""
    }
   },
   "outputs": [
    {
     "output_type": "display_data",
     "data": {
      "text/html": [
       "<style scoped>\n",
       "  .table-result-container {\n",
       "    max-height: 300px;\n",
       "    overflow: auto;\n",
       "  }\n",
       "  table, th, td {\n",
       "    border: 1px solid black;\n",
       "    border-collapse: collapse;\n",
       "  }\n",
       "  th, td {\n",
       "    padding: 5px;\n",
       "  }\n",
       "  th {\n",
       "    text-align: left;\n",
       "  }\n",
       "</style><div class='table-result-container'><table class='table-result'><thead style='background-color: white'><tr><th>order_id</th><th>order_date</th><th>quantity</th><th>total_amount</th><th>year</th><th>DimCustomerKey</th><th>DimProductId</th></tr></thead><tbody><tr><td>O00001</td><td>2023-03-22T00:00:00.000Z</td><td>3</td><td>2022.87</td><td>2023</td><td>710</td><td>P0159</td></tr><tr><td>O00002</td><td>2023-06-30T00:00:00.000Z</td><td>2</td><td>3560.74</td><td>2023</td><td>954</td><td>P0036</td></tr><tr><td>O00003</td><td>2023-11-06T00:00:00.000Z</td><td>3</td><td>5903.52</td><td>2023</td><td>1578</td><td>P0427</td></tr><tr><td>O00004</td><td>2024-02-27T00:00:00.000Z</td><td>3</td><td>4107.99</td><td>2024</td><td>962</td><td>P0332</td></tr><tr><td>O00005</td><td>2024-10-13T00:00:00.000Z</td><td>5</td><td>5784.95</td><td>2024</td><td>156</td><td>P0038</td></tr><tr><td>O00006</td><td>2023-05-17T00:00:00.000Z</td><td>5</td><td>407.75</td><td>2023</td><td>521</td><td>P0174</td></tr><tr><td>O00007</td><td>2024-01-18T00:00:00.000Z</td><td>4</td><td>4907.64</td><td>2024</td><td>982</td><td>P0352</td></tr><tr><td>O00008</td><td>2023-01-10T00:00:00.000Z</td><td>4</td><td>7037.88</td><td>2023</td><td>976</td><td>P0172</td></tr><tr><td>O00009</td><td>2023-04-20T00:00:00.000Z</td><td>3</td><td>4076.97</td><td>2023</td><td>1001</td><td>P0238</td></tr><tr><td>O00010</td><td>2023-07-07T00:00:00.000Z</td><td>4</td><td>5695.64</td><td>2023</td><td>702</td><td>P0258</td></tr></tbody></table></div>"
      ]
     },
     "metadata": {
      "application/vnd.databricks.v1+output": {
       "addedWidgets": {},
       "aggData": [],
       "aggError": "",
       "aggOverflow": false,
       "aggSchema": [],
       "aggSeriesLimitReached": false,
       "aggType": "",
       "arguments": {},
       "columnCustomDisplayInfos": {},
       "data": [
        [
         "O00001",
         "2023-03-22T00:00:00.000Z",
         3,
         2022.87,
         2023,
         710,
         "P0159"
        ],
        [
         "O00002",
         "2023-06-30T00:00:00.000Z",
         2,
         3560.74,
         2023,
         954,
         "P0036"
        ],
        [
         "O00003",
         "2023-11-06T00:00:00.000Z",
         3,
         5903.52,
         2023,
         1578,
         "P0427"
        ],
        [
         "O00004",
         "2024-02-27T00:00:00.000Z",
         3,
         4107.99,
         2024,
         962,
         "P0332"
        ],
        [
         "O00005",
         "2024-10-13T00:00:00.000Z",
         5,
         5784.95,
         2024,
         156,
         "P0038"
        ],
        [
         "O00006",
         "2023-05-17T00:00:00.000Z",
         5,
         407.75,
         2023,
         521,
         "P0174"
        ],
        [
         "O00007",
         "2024-01-18T00:00:00.000Z",
         4,
         4907.64,
         2024,
         982,
         "P0352"
        ],
        [
         "O00008",
         "2023-01-10T00:00:00.000Z",
         4,
         7037.88,
         2023,
         976,
         "P0172"
        ],
        [
         "O00009",
         "2023-04-20T00:00:00.000Z",
         3,
         4076.97,
         2023,
         1001,
         "P0238"
        ],
        [
         "O00010",
         "2023-07-07T00:00:00.000Z",
         4,
         5695.64,
         2023,
         702,
         "P0258"
        ]
       ],
       "datasetInfos": [],
       "dbfsResultPath": null,
       "isJsonSchema": true,
       "metadata": {},
       "overflow": false,
       "plotOptions": {
        "customPlotOptions": {},
        "displayType": "table",
        "pivotAggregation": null,
        "pivotColumns": null,
        "xColumns": null,
        "yColumns": null
       },
       "removedWidgets": [],
       "schema": [
        {
         "metadata": "{}",
         "name": "order_id",
         "type": "\"string\""
        },
        {
         "metadata": "{}",
         "name": "order_date",
         "type": "\"timestamp\""
        },
        {
         "metadata": "{}",
         "name": "quantity",
         "type": "\"integer\""
        },
        {
         "metadata": "{}",
         "name": "total_amount",
         "type": "\"double\""
        },
        {
         "metadata": "{}",
         "name": "year",
         "type": "\"integer\""
        },
        {
         "metadata": "{}",
         "name": "DimCustomerKey",
         "type": "\"integer\""
        },
        {
         "metadata": "{}",
         "name": "DimProductId",
         "type": "\"string\""
        }
       ],
       "type": "table"
      }
     },
     "output_type": "display_data"
    }
   ],
   "source": [
    "df_fact_new.limit(10).display()"
   ]
  },
  {
   "cell_type": "markdown",
   "metadata": {
    "application/vnd.databricks.v1+cell": {
     "cellMetadata": {},
     "inputWidgets": {},
     "nuid": "ee112388-e6a4-4e83-b7d4-7acaa91cc24b",
     "showTitle": false,
     "tableResultSettingsMap": {},
     "title": ""
    }
   },
   "source": [
    "###Upsert Logic"
   ]
  },
  {
   "cell_type": "code",
   "execution_count": 0,
   "metadata": {
    "application/vnd.databricks.v1+cell": {
     "cellMetadata": {
      "byteLimit": 2048000,
      "rowLimit": 10000
     },
     "inputWidgets": {},
     "nuid": "3e51c701-1e6b-4346-b38a-d1d94c1dfeec",
     "showTitle": false,
     "tableResultSettingsMap": {},
     "title": ""
    }
   },
   "outputs": [],
   "source": [
    "from delta.tables import DeltaTable"
   ]
  },
  {
   "cell_type": "code",
   "execution_count": 0,
   "metadata": {
    "application/vnd.databricks.v1+cell": {
     "cellMetadata": {
      "byteLimit": 2048000,
      "rowLimit": 10000
     },
     "inputWidgets": {},
     "nuid": "076fdfc5-25e9-417c-aac1-7d5cedb815df",
     "showTitle": false,
     "tableResultSettingsMap": {},
     "title": ""
    }
   },
   "outputs": [],
   "source": [
    "if spark.catalog.tableExists(\"databricks_cata.gold.FactOrders\"):\n",
    "    dlt_obj = DeltaTable.forName(spark,\"databricks_cata.gold.FactOrders\")\n",
    "    dlt_obj.alias(\"trg\").merge(df_fact_new.alias(\"src\"),\"trg.order_id==src.order_id AND trg.DimCustomerKey = src.DimCustomerKey AND trg.DimProductKey = src.DimProductKey\").whenMatchedUpdateAll().whenNotMatchedInsertAll().execute()\n",
    "else:\n",
    "    df_fact_new.write.format(\"delta\").option('path',\"abfss://gold@databrickstestete.dfs.core.windows.net/FactOrders\").saveAsTable(\"databricks_cata.gold.FactOrders\")"
   ]
  }
 ],
 "metadata": {
  "application/vnd.databricks.v1+notebook": {
   "computePreferences": null,
   "dashboards": [],
   "environmentMetadata": {
    "base_environment": "",
    "environment_version": "2"
   },
   "inputWidgetPreferences": null,
   "language": "python",
   "notebookMetadata": {
    "pythonIndentUnit": 4
   },
   "notebookName": "Gold_Orders",
   "widgets": {}
  },
  "language_info": {
   "name": "python"
  }
 },
 "nbformat": 4,
 "nbformat_minor": 0
}